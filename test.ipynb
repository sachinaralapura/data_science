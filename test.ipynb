{
 "cells": [
  {
   "cell_type": "code",
   "execution_count": null,
   "metadata": {},
   "outputs": [],
   "source": [
    "import numpy as np \n",
    "import timeit\n",
    "a = np.array([2,4,5,'nn',6])\n",
    "print(a)\n",
    "print(type(a))"
   ]
  },
  {
   "cell_type": "code",
   "execution_count": null,
   "metadata": {},
   "outputs": [],
   "source": [
    "b = np.ones((3,5))\n",
    "b = np.zeros((5,6))\n",
    "b = np.logspace(10 , 100 , 10 , base=16)\n",
    "b = np.random.rand(5)\n",
    "b = np.linspace(0 , 1000 , 10 ,int,retstep=False)\n",
    "print(b)\n"
   ]
  },
  {
   "cell_type": "code",
   "execution_count": null,
   "metadata": {},
   "outputs": [],
   "source": [
    "c = np.arange(1,10)\n",
    "print(c)\n",
    "print(c.reshape(3,3))\n",
    "print((c.reshape(3,3)).shape)"
   ]
  },
  {
   "cell_type": "code",
   "execution_count": null,
   "metadata": {},
   "outputs": [],
   "source": [
    "a = np.arange(1,10).reshape(3,3)\n",
    "b = np.arange(11,20).reshape(3,3)\n",
    "c = np.add(a,b)\n",
    "c = np.subtract(b,a)\n",
    "print(c)"
   ]
  },
  {
   "cell_type": "code",
   "execution_count": null,
   "metadata": {},
   "outputs": [],
   "source": [
    "c = np.multiply(a,b)\n",
    "c = np.divide(a,b)\n",
    "c = np.remainder(a,b)\n",
    "print(a[:2 ,:2])\n",
    "print(c)"
   ]
  },
  {
   "cell_type": "code",
   "execution_count": null,
   "metadata": {},
   "outputs": [],
   "source": [
    "c = np.transpose(a)\n",
    "c = np.append(a,[[10,11,12]],axis=0)\n",
    "c =  np.array([21,22,23]).reshape(3,1)\n",
    "c = np.append(a,c,axis=1)\n",
    "print(a)\n",
    "print(c)"
   ]
  },
  {
   "cell_type": "code",
   "execution_count": null,
   "metadata": {},
   "outputs": [],
   "source": [
    "m = np.matrix(\"1,2,3;4,5,6;7,8,9\")\n",
    "#print(m)\n",
    "#print(m.shape[1])\n",
    "row = np.matrix(\"10,11,12\")\n",
    "m = np.insert(m,3,row,axis=0)\n",
    "print(m)"
   ]
  },
  {
   "cell_type": "code",
   "execution_count": null,
   "metadata": {},
   "outputs": [],
   "source": [
    "m1 = np.matrix(np.arange(0,20).reshape(5,4))\n",
    "m2 = np.matrix(np.arange(20,40).reshape(5,4))\n",
    "addMat = np.add(m1,m2)\n",
    "subMat = np.subtract(m1,m2)\n",
    "divMat = np.divide(m1,m2)\n",
    "print(addMat)\n",
    "print(subMat)\n",
    "print(divMat)\n"
   ]
  },
  {
   "cell_type": "code",
   "execution_count": null,
   "metadata": {},
   "outputs": [],
   "source": [
    "m1 = np.matrix(np.arange(0,20).reshape(5,4))\n",
    "m2 = np.matrix(np.arange(20,40).reshape(4,5))\n",
    "mulMat = np.dot(m1,m2)\n",
    "print(mulMat)\n"
   ]
  },
  {
   "cell_type": "code",
   "execution_count": null,
   "metadata": {},
   "outputs": [],
   "source": [
    "m3 = np.matrix(np.random.rand(16).reshape(4,4))\n",
    "det = np.linalg.det(m3)\n",
    "rank = np.linalg.matrix_rank(m3)\n",
    "inv = np.linalg.inv(m3)\n",
    "print(inv)"
   ]
  },
  {
   "cell_type": "code",
   "execution_count": null,
   "metadata": {},
   "outputs": [],
   "source": [
    "import os\n",
    "from pprint import  pprint\n",
    "import pandas as pd\n",
    "csv = pd.read_csv('sample.csv',index_col=0,na_values=['A'])\n",
    "print(csv)"
   ]
  },
  {
   "cell_type": "code",
   "execution_count": 18,
   "metadata": {},
   "outputs": [
    {
     "name": "stdout",
     "output_type": "stream",
     "text": [
      "     0 First Name   Last Name  Gender        Country  Age        Date    Id\n",
      "0    1      Dulce       Abril  Female  United States   32  15/10/2017  1562\n",
      "1    2       Mara   Hashimoto  Female  Great Britain   25  16/08/2016  1582\n",
      "2    3     Philip        Gent    Male         France   36  21/05/2015  2587\n",
      "3    4   Kathleen      Hanner  Female  United States   25  15/10/2017  3549\n",
      "4    5    Nereida     Magwood  Female  United States   58  16/08/2016  2468\n",
      "5    6     Gaston       Brumm    Male  United States   24  21/05/2015  2554\n",
      "6    7       Etta        Hurn  Female  Great Britain   56  15/10/2017  3598\n",
      "7    8    Earlean      Melgar  Female  United States   27  16/08/2016  2456\n",
      "8    9   Vincenza     Weiland  Female  United States   40  21/05/2015  6548\n",
      "9   10     Fallon     Winward  Female  Great Britain   28  16/08/2016  5486\n",
      "10  11    Arcelia      Bouska  Female  Great Britain   39  21/05/2015  1258\n",
      "11  12   Franklyn      Unknow    Male         France   38  15/10/2017  2579\n",
      "12  13    Sherron    Ascencio  Female  Great Britain   32  16/08/2016  3256\n",
      "13  14     Marcel   Zabriskie    Male  Great Britain   26  21/05/2015  2587\n",
      "14  15       Kina    Hazelton  Female  Great Britain   31  16/08/2016  3259\n",
      "15  16   Shavonne         Pia  Female         France   24  21/05/2015  1546\n",
      "16  17     Shavon      Benito  Female         France   39  15/10/2017  3579\n",
      "17  18   Lauralee     Perrine  Female  Great Britain   28  16/08/2016  6597\n",
      "18  19     Loreta      Curren  Female         France   26  21/05/2015  9654\n",
      "19  20     Teresa      Strawn  Female         France   46  21/05/2015  3569\n",
      "20  21    Belinda     Partain  Female  United States   37  15/10/2017  2564\n",
      "21  22      Holly        Eudy  Female  United States   52  16/08/2016  8561\n",
      "22  23       Many      Cuccia  Female  Great Britain   46  21/05/2015  5489\n",
      "23  24     Libbie       Dalby  Female         France   42  21/05/2015  5489\n",
      "24  25     Lester     Prothro    Male         France   21  15/10/2017  6574\n",
      "25  26     Marvel        Hail  Female  Great Britain   28  16/08/2016  5555\n",
      "26  27    Angelyn        Vong  Female  United States   29  21/05/2015  6125\n",
      "27  28  Francesca   Beaudreau  Female         France   23  15/10/2017  5412\n",
      "28  29      Garth       Gangi    Male  United States   41  16/08/2016  3256\n",
      "29  30      Carla    Trumbull  Female  Great Britain   28  21/05/2015  3264\n",
      "30  31       Veta       Muntz  Female  Great Britain   37  15/10/2017  4569\n",
      "31  32     Stasia      Becker  Female  Great Britain   34  16/08/2016  7521\n",
      "32  33       Jona     Grindle  Female  Great Britain   26  21/05/2015  6458\n",
      "33  34      Judie    Claywell  Female         France   35  16/08/2016  7569\n",
      "34  35     Dewitt      Borger    Male  United States   36  21/05/2015  8514\n",
      "35  36       Nena      Hacker  Female  United States   29  15/10/2017  8563\n",
      "36  37     Kelsie     Wachtel  Female         France   27  16/08/2016  8642\n",
      "37  38        Sau        Pfau  Female  United States   25  21/05/2015  9536\n",
      "38  39    Shanice   Mccrystal  Female  United States   36  21/05/2015  2567\n",
      "39  40      Chase      Karner    Male  United States   37  15/10/2017  2154\n",
      "40  41     Tommie   Underdahl    Male  United States   26  16/08/2016  3265\n",
      "41  42     Dorcas      Darity  Female  United States   37  21/05/2015  8765\n",
      "42  43      Angel       Sanor    Male         France   24  15/10/2017  3259\n",
      "43  44  Willodean        Harn  Female  United States   39  16/08/2016  3567\n",
      "44  45     Weston     Martina    Male  United States   26  21/05/2015  6540\n",
      "45  46       Roma  Lafollette  Female  United States   34  15/10/2017  2654\n",
      "46  47     Felisa        Cail  Female  United States   28  16/08/2016  6525\n",
      "47  48   Demetria       Abbey  Female  United States   32  21/05/2015  3265\n",
      "48  49     Jeromy        Danz    Male  United States   39  15/10/2017  3265\n",
      "49  50   Rasheeda      Alkire  Female  United States   29  16/08/2016  6125\n"
     ]
    }
   ],
   "source": [
    "execel = pd.read_excel('s.xlsx')\n",
    "print(execel)"
   ]
  }
 ],
 "metadata": {
  "kernelspec": {
   "display_name": "Python 3",
   "language": "python",
   "name": "python3"
  },
  "language_info": {
   "codemirror_mode": {
    "name": "ipython",
    "version": 3
   },
   "file_extension": ".py",
   "mimetype": "text/x-python",
   "name": "python",
   "nbconvert_exporter": "python",
   "pygments_lexer": "ipython3",
   "version": "3.10.6"
  },
  "orig_nbformat": 4
 },
 "nbformat": 4,
 "nbformat_minor": 2
}
