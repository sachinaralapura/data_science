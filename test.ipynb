{
 "cells": [
  {
   "cell_type": "code",
   "execution_count": null,
   "metadata": {},
   "outputs": [],
   "source": [
    "import numpy as np \n",
    "import timeit\n",
    "a = np.array([2,4,5,'nn',6])\n",
    "print(a)\n",
    "print(type(a))"
   ]
  },
  {
   "cell_type": "code",
   "execution_count": null,
   "metadata": {},
   "outputs": [],
   "source": [
    "b = np.ones((3,5))\n",
    "b = np.zeros((5,6))\n",
    "b = np.logspace(10 , 100 , 10 , base=16)\n",
    "b = np.random.rand(5)\n",
    "b = np.linspace(0 , 1000 , 10 ,int,retstep=False)\n",
    "print(b)\n"
   ]
  },
  {
   "cell_type": "code",
   "execution_count": null,
   "metadata": {},
   "outputs": [],
   "source": [
    "c = np.arange(1,10)\n",
    "print(c)\n",
    "print(c.reshape(3,3))\n",
    "print((c.reshape(3,3)).shape)"
   ]
  },
  {
   "cell_type": "code",
   "execution_count": null,
   "metadata": {},
   "outputs": [],
   "source": [
    "a = np.arange(1,10).reshape(3,3)\n",
    "b = np.arange(11,20).reshape(3,3)\n",
    "c = np.add(a,b)\n",
    "c = np.subtract(b,a)\n",
    "print(c)"
   ]
  },
  {
   "cell_type": "code",
   "execution_count": null,
   "metadata": {},
   "outputs": [],
   "source": [
    "c = np.multiply(a,b)\n",
    "c = np.divide(a,b)\n",
    "c = np.remainder(a,b)\n",
    "print(a[:2 ,:2])\n",
    "print(c)"
   ]
  },
  {
   "cell_type": "code",
   "execution_count": null,
   "metadata": {},
   "outputs": [],
   "source": [
    "c = np.transpose(a)\n",
    "c = np.append(a,[[10,11,12]],axis=0)\n",
    "c =  np.array([21,22,23]).reshape(3,1)\n",
    "c = np.append(a,c,axis=1)\n",
    "print(a)\n",
    "print(c)"
   ]
  },
  {
   "cell_type": "code",
   "execution_count": null,
   "metadata": {},
   "outputs": [],
   "source": [
    "m = np.matrix(\"1,2,3;4,5,6;7,8,9\")\n",
    "#print(m)\n",
    "#print(m.shape[1])\n",
    "row = np.matrix(\"10,11,12\")\n",
    "m = np.insert(m,3,row,axis=0)\n",
    "print(m)"
   ]
  },
  {
   "cell_type": "code",
   "execution_count": null,
   "metadata": {},
   "outputs": [],
   "source": [
    "m1 = np.matrix(np.arange(0,20).reshape(5,4))\n",
    "m2 = np.matrix(np.arange(20,40).reshape(5,4))\n",
    "addMat = np.add(m1,m2)\n",
    "subMat = np.subtract(m1,m2)\n",
    "divMat = np.divide(m1,m2)\n",
    "print(addMat)\n",
    "print(subMat)\n",
    "print(divMat)\n"
   ]
  },
  {
   "cell_type": "code",
   "execution_count": null,
   "metadata": {},
   "outputs": [],
   "source": [
    "m1 = np.matrix(np.arange(0,20).reshape(5,4))\n",
    "m2 = np.matrix(np.arange(20,40).reshape(4,5))\n",
    "mulMat = np.dot(m1,m2)\n",
    "print(mulMat)\n"
   ]
  },
  {
   "cell_type": "code",
   "execution_count": null,
   "metadata": {},
   "outputs": [],
   "source": [
    "m3 = np.matrix(np.random.rand(16).reshape(4,4))\n",
    "det = np.linalg.det(m3)\n",
    "rank = np.linalg.matrix_rank(m3)\n",
    "inv = np.linalg.inv(m3)\n",
    "print(inv)"
   ]
  },
  {
   "cell_type": "code",
   "execution_count": null,
   "metadata": {},
   "outputs": [],
   "source": [
    "import os\n",
    "from pprint import  pprint\n",
    "import pandas as pd\n",
    "csv = pd.read_csv('sample.csv',index_col=0,na_values=['A'])\n",
    "print(csv)"
   ]
  },
  {
   "cell_type": "code",
   "execution_count": null,
   "metadata": {},
   "outputs": [],
   "source": [
    "execel = pd.read_excel('s.xlsx',index_col=0)\n",
    "copyexecel = execel\n",
    "copyexecel = execel.copy(deep=True)\n",
    "print(copyexecel)"
   ]
  },
  {
   "cell_type": "code",
   "execution_count": 48,
   "metadata": {},
   "outputs": [
    {
     "data": {
      "text/html": [
       "<div>\n",
       "<style scoped>\n",
       "    .dataframe tbody tr th:only-of-type {\n",
       "        vertical-align: middle;\n",
       "    }\n",
       "\n",
       "    .dataframe tbody tr th {\n",
       "        vertical-align: top;\n",
       "    }\n",
       "\n",
       "    .dataframe thead th {\n",
       "        text-align: right;\n",
       "    }\n",
       "</style>\n",
       "<table border=\"1\" class=\"dataframe\">\n",
       "  <thead>\n",
       "    <tr style=\"text-align: right;\">\n",
       "      <th></th>\n",
       "      <th>First Name</th>\n",
       "      <th>Last Name</th>\n",
       "    </tr>\n",
       "    <tr>\n",
       "      <th>0</th>\n",
       "      <th></th>\n",
       "      <th></th>\n",
       "    </tr>\n",
       "  </thead>\n",
       "  <tbody>\n",
       "    <tr>\n",
       "      <th>1</th>\n",
       "      <td>Dulce</td>\n",
       "      <td>Abril</td>\n",
       "    </tr>\n",
       "    <tr>\n",
       "      <th>2</th>\n",
       "      <td>Mara</td>\n",
       "      <td>Hashimoto</td>\n",
       "    </tr>\n",
       "    <tr>\n",
       "      <th>3</th>\n",
       "      <td>Philip</td>\n",
       "      <td>Gent</td>\n",
       "    </tr>\n",
       "    <tr>\n",
       "      <th>4</th>\n",
       "      <td>Kathleen</td>\n",
       "      <td>Hanner</td>\n",
       "    </tr>\n",
       "    <tr>\n",
       "      <th>5</th>\n",
       "      <td>Nereida</td>\n",
       "      <td>Magwood</td>\n",
       "    </tr>\n",
       "  </tbody>\n",
       "</table>\n",
       "</div>"
      ],
      "text/plain": [
       "  First Name  Last Name\n",
       "0                      \n",
       "1      Dulce      Abril\n",
       "2       Mara  Hashimoto\n",
       "3     Philip       Gent\n",
       "4   Kathleen     Hanner\n",
       "5    Nereida    Magwood"
      ]
     },
     "execution_count": 48,
     "metadata": {},
     "output_type": "execute_result"
    }
   ],
   "source": [
    "execel.index            \n",
    "list(execel.columns)    #list of columns name\n",
    "execel.size\n",
    "execel.shape            \n",
    "execel.memory_usage()   #memory usage of each column\n",
    "execel.ndim             #dimension of dataframe\n",
    "execel.head(3)          #displays first 3 rows\n",
    "execel.tail(3)          #displays last 3 rows\n",
    "execel.at[4,'First Name'] #4th rows in Firstname columns\n",
    "execel.iat[3,5]\n",
    "execel.loc[0:5,['First Name','Last Name']]\n",
    "\n"
   ]
  }
 ],
 "metadata": {
  "kernelspec": {
   "display_name": "Python 3",
   "language": "python",
   "name": "python3"
  },
  "language_info": {
   "codemirror_mode": {
    "name": "ipython",
    "version": 3
   },
   "file_extension": ".py",
   "mimetype": "text/x-python",
   "name": "python",
   "nbconvert_exporter": "python",
   "pygments_lexer": "ipython3",
   "version": "3.10.6"
  },
  "orig_nbformat": 4
 },
 "nbformat": 4,
 "nbformat_minor": 2
}
